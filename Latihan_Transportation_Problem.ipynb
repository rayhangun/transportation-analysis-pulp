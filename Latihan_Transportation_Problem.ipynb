{
  "nbformat": 4,
  "nbformat_minor": 0,
  "metadata": {
    "colab": {
      "name": "Latihan Transportation Problem.ipynb",
      "provenance": []
    },
    "kernelspec": {
      "name": "python3",
      "display_name": "Python 3"
    },
    "language_info": {
      "name": "python"
    }
  },
  "cells": [
    {
      "cell_type": "code",
      "execution_count": 23,
      "metadata": {
        "colab": {
          "base_uri": "https://localhost:8080/"
        },
        "id": "d79mheqOGk9W",
        "outputId": "929ba79e-9ba9-47cb-a0be-bc412cf6a047"
      },
      "outputs": [
        {
          "output_type": "stream",
          "name": "stdout",
          "text": [
            "Looking in indexes: https://pypi.org/simple, https://us-python.pkg.dev/colab-wheels/public/simple/\n",
            "Requirement already satisfied: pulp in /usr/local/lib/python3.7/dist-packages (2.6.0)\n"
          ]
        }
      ],
      "source": [
        "# install dulu package-nya\n",
        "!pip install pulp"
      ]
    },
    {
      "cell_type": "code",
      "source": [
        "# import package-nya ke python\n",
        "from pulp import *"
      ],
      "metadata": {
        "id": "UIw5kVADmUb6"
      },
      "execution_count": 36,
      "outputs": []
    },
    {
      "cell_type": "code",
      "source": [
        "# create the LP object, set up as a maximization problem --> since we want to minimize the cost of shipping goods\n",
        "problem = pulp.LpProblem('Transportation_Problem', LpMinimize)\n",
        "\n",
        "# declare the variables\n",
        "x11 = LpVariable(\"CLeveland to Boston\", lowBound = 0)\n",
        "x12 = LpVariable(\"Cleveland to Chicago\", lowBound = 0)\n",
        "x13 = LpVariable(\"Cleveland to St.Louis\", lowBound = 0)\n",
        "x14 = LpVariable(\"Cleveland to Lexington\", lowBound = 0)\n",
        "x21 = LpVariable(\"Bedford to Boston\", lowBound = 0)\n",
        "x22 = LpVariable(\"Bedford to Chicago\", lowBound = 0)\n",
        "x23 = LpVariable(\"Bedford to St.Louis\", lowBound = 0)\n",
        "x24 = LpVariable(\"Bedford to Lexington\", lowBound = 0)\n",
        "x31 = LpVariable(\"York to Boston\", lowBound = 0)\n",
        "x32 = LpVariable(\"York to Chicago\", lowBound = 0)\n",
        "x33 = LpVariable(\"York to St.Louis\", lowBound = 0)\n",
        "x34 = LpVariable(\"York to Lexington\", lowBound = 0)\n",
        "\n",
        "# define the objective function\n",
        "problem += 3*x11 + 2*x12 + 7*x13 + 6*x14 + 7*x21 + 5*x22 + 2*x23 + 3*x24 + 2*x31 + 5*x32 + 4*x33 + 5*x34\n",
        "\n",
        "# define the constraint(s)\n",
        "problem += x11 + x12 + x13 + x14 <= 5000 # Cleveland supply\n",
        "problem += x21 + x22 + x23 + x24 <= 6000 # Benford supply\n",
        "problem += x31 + x32 + x33 + x34 <= 2500 # York Supply\n",
        "problem += x11 + x21 + x31 == 6000 # Boston demand\n",
        "problem += x12 + x22 + x32 == 4000 # Chicago demand\n",
        "problem += x13 + x23 + x33 == 2000 # St.Louis demand\n",
        "problem += x14 + x24 + x34 == 1500 # Lexington demand\n",
        "\n",
        "problem # display the LP problem"
      ],
      "metadata": {
        "colab": {
          "base_uri": "https://localhost:8080/"
        },
        "id": "0EpeccYHjTp5",
        "outputId": "67273c0e-2518-4158-bda9-50d5751081da"
      },
      "execution_count": 32,
      "outputs": [
        {
          "output_type": "execute_result",
          "data": {
            "text/plain": [
              "Transportation_Problem:\n",
              "MINIMIZE\n",
              "7*Bedford_to_Boston + 5*Bedford_to_Chicago + 3*Bedford_to_Lexington + 2*Bedford_to_St.Louis + 3*CLeveland_to_Boston + 2*Cleveland_to_Chicago + 6*Cleveland_to_Lexington + 7*Cleveland_to_St.Louis + 2*York_to_Boston + 5*York_to_Chicago + 5*York_to_Lexington + 4*York_to_St.Louis + 0\n",
              "SUBJECT TO\n",
              "_C1: CLeveland_to_Boston + Cleveland_to_Chicago + Cleveland_to_Lexington\n",
              " + Cleveland_to_St.Louis <= 5000\n",
              "\n",
              "_C2: Bedford_to_Boston + Bedford_to_Chicago + Bedford_to_Lexington\n",
              " + Bedford_to_St.Louis <= 6000\n",
              "\n",
              "_C3: York_to_Boston + York_to_Chicago + York_to_Lexington + York_to_St.Louis\n",
              " <= 2500\n",
              "\n",
              "_C4: Bedford_to_Boston + CLeveland_to_Boston + York_to_Boston = 6000\n",
              "\n",
              "_C5: Bedford_to_Chicago + Cleveland_to_Chicago + York_to_Chicago = 4000\n",
              "\n",
              "_C6: Bedford_to_St.Louis + Cleveland_to_St.Louis + York_to_St.Louis = 2000\n",
              "\n",
              "_C7: Bedford_to_Lexington + Cleveland_to_Lexington + York_to_Lexington = 1500\n",
              "\n",
              "VARIABLES\n",
              "Bedford_to_Boston Continuous\n",
              "Bedford_to_Chicago Continuous\n",
              "Bedford_to_Lexington Continuous\n",
              "Bedford_to_St.Louis Continuous\n",
              "CLeveland_to_Boston Continuous\n",
              "Cleveland_to_Chicago Continuous\n",
              "Cleveland_to_Lexington Continuous\n",
              "Cleveland_to_St.Louis Continuous\n",
              "York_to_Boston Continuous\n",
              "York_to_Chicago Continuous\n",
              "York_to_Lexington Continuous\n",
              "York_to_St.Louis Continuous"
            ]
          },
          "metadata": {},
          "execution_count": 32
        }
      ]
    },
    {
      "cell_type": "code",
      "source": [
        "problem.solve() # solving the problem"
      ],
      "metadata": {
        "colab": {
          "base_uri": "https://localhost:8080/"
        },
        "id": "60nZ2pMgfHca",
        "outputId": "6bb2be5d-beb7-4082-af4e-37b3cf87025d"
      },
      "execution_count": 33,
      "outputs": [
        {
          "output_type": "execute_result",
          "data": {
            "text/plain": [
              "1"
            ]
          },
          "metadata": {},
          "execution_count": 33
        }
      ]
    },
    {
      "cell_type": "code",
      "source": [
        "print(\"Status = \", LpStatus[problem.status])\n",
        "print(\"Objective value = \", value(problem.objective))"
      ],
      "metadata": {
        "colab": {
          "base_uri": "https://localhost:8080/"
        },
        "id": "ndM6KXl8iPN2",
        "outputId": "24458a6f-5228-4c0a-f53f-4ac6a6ff5f2c"
      },
      "execution_count": 34,
      "outputs": [
        {
          "output_type": "stream",
          "name": "stdout",
          "text": [
            "Status =  Optimal\n",
            "Objective value =  39500.0\n"
          ]
        }
      ]
    },
    {
      "cell_type": "code",
      "source": [
        "for v in problem.variables():\n",
        "    print(v.name, \"=\", v.varValue)"
      ],
      "metadata": {
        "colab": {
          "base_uri": "https://localhost:8080/"
        },
        "id": "3JjNw-wliF5n",
        "outputId": "d038ea16-9e08-489a-bd07-c9e14eee2f23"
      },
      "execution_count": 35,
      "outputs": [
        {
          "output_type": "stream",
          "name": "stdout",
          "text": [
            "Bedford_to_Boston = 0.0\n",
            "Bedford_to_Chicago = 2500.0\n",
            "Bedford_to_Lexington = 1500.0\n",
            "Bedford_to_St.Louis = 2000.0\n",
            "CLeveland_to_Boston = 3500.0\n",
            "Cleveland_to_Chicago = 1500.0\n",
            "Cleveland_to_Lexington = 0.0\n",
            "Cleveland_to_St.Louis = 0.0\n",
            "York_to_Boston = 2500.0\n",
            "York_to_Chicago = 0.0\n",
            "York_to_Lexington = 0.0\n",
            "York_to_St.Louis = 0.0\n"
          ]
        }
      ]
    }
  ]
}